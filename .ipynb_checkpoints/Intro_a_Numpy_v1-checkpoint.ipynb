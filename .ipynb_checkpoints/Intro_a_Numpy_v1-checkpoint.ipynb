{
 "cells": [
  {
   "cell_type": "markdown",
   "metadata": {},
   "source": [
    "## Numpy"
   ]
  },
  {
   "cell_type": "markdown",
   "metadata": {},
   "source": [
    "* Su nombre deriva de Numeric Python.\n",
    "* Es una librería muy amplia: el user guide posee 200 paginas, el reference manual posee 1500 paginas.\n",
    "* Siempre se recomienda tener abierta la referencia de numpy.\n",
    "* Numpy es un bloque interno de muchas otras librerías en Python como Scipy, Pandas, PyTorch.\n",
    "* Posee un performance muy bueno, parecidos al lenguaje compilado (compilado en C).\n",
    "* No es una librería genérica ya que solo se puede utilizar para procesar números.\n",
    "* El objeto básico de Numpy es llamado ndArray, es equivalente a un tensor.\n",
    "    * Arreglo multidimensional.\n",
    "    * mutable como las listas.\n",
    "    * se pueden operar indexación y slicing.\n",
    "* Al momento de crearlo poseen cierto tamaño y tipo específico, esto permite optimizar, esto permite aplicar muchas operaciones precompiladas de C.\n",
    "* Muchas de las cosas que haríamos en estructurcuras build-in, son muy fáciles de realizar en numpy por medio de funciones previamente compiladas.\n",
    "* permite operaciones vectorizadas las cuales simplifican y hace que los resultados sean más eficientes.\n",
    "* Siempre se recomienda utilizar operaciones vectorizadas."
   ]
  },
  {
   "cell_type": "markdown",
   "metadata": {},
   "source": [
    "## Algebra Lineal\n"
   ]
  },
  {
   "cell_type": "markdown",
   "metadata": {},
   "source": [
    "El algebra lineal es una sub área de la matemática que tiene multiples aplicaciones en la ciencias de la computación y data science. "
   ]
  },
  {
   "cell_type": "markdown",
   "metadata": {},
   "source": [
    "Es de suma importancia ya que muchas veces para poder construir/aplicar un algoritmo de aprendezaje es necesario transformar infomraición no estructurada a representaciones numéricas, al proceso de transformar cualquier fuente de información a una representación numérica \n",
    "se le conoce como **embeding**, algunos ejemplos son:\n",
    "* representación de imágenes.\n",
    "* word2Vect.\n",
    "* categorical encoding."
   ]
  },
  {
   "cell_type": "markdown",
   "metadata": {},
   "source": [
    "De esta forma el álgebra lineal y sus estrcuturas nose proveen de mecanismos para rerepsentar y gestionar información en cualquier problema de inteligencia artificial, machine learning y ciencia de datos en general."
   ]
  },
  {
   "cell_type": "markdown",
   "metadata": {},
   "source": [
    "Además de esto, muchos algoritmos de machine learning utilizan estructuralmente operaciones de algegra linel"
   ]
  },
  {
   "cell_type": "markdown",
   "metadata": {},
   "source": [
    "* Estructuras para linear separation.\n",
    "* Support **Vectors** Machine (SVM).\n",
    "* En **Deep Learning** todas las operaciones se realizan por medio de transformaciones lineales.\n",
    "* Los frameworks más populares de Machine Learning utilzan ampliamente álgebra lineal.\n",
    "    * Tensor flow (flujo de tensores en un grafo computacional)\n",
    "    * PyTorch esencialmente utiliza álgebra lineal. "
   ]
  },
  {
   "cell_type": "markdown",
   "metadata": {},
   "source": [
    "## Numpy es mucho más que Álgebra Lineal"
   ]
  },
  {
   "cell_type": "markdown",
   "metadata": {},
   "source": [
    "A pesar de que numpy está pensado principalmente para álgebra lineal, posee una gran variedad de funciones para diferentes apliaciones:\n",
    "* Modelación y Simulación: generación de numeros aleatorios.\n",
    "* Transformadas de Fourier para manimulación de datos espacial y temporalmente dependientes.\n",
    "* SciPy: Una librería para procesamiento científico:\n",
    "    * Resolución de problemas de optimización.\n",
    "    * Integrales y Derivadas.\n",
    "    * Ecuaciones Diferenciales.\n",
    "    * Procesamiento de Álgebra sombólica en General."
   ]
  },
  {
   "cell_type": "code",
   "execution_count": null,
   "metadata": {},
   "outputs": [],
   "source": []
  }
 ],
 "metadata": {
  "kernelspec": {
   "display_name": "Python 3",
   "language": "python",
   "name": "python3"
  },
  "language_info": {
   "codemirror_mode": {
    "name": "ipython",
    "version": 3
   },
   "file_extension": ".py",
   "mimetype": "text/x-python",
   "name": "python",
   "nbconvert_exporter": "python",
   "pygments_lexer": "ipython3",
   "version": "3.7.6"
  }
 },
 "nbformat": 4,
 "nbformat_minor": 4
}
